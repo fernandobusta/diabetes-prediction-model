{
 "cells": [
  {
   "cell_type": "code",
   "execution_count": 6,
   "metadata": {},
   "outputs": [],
   "source": [
    "# Necessary libraries\n",
    "# !pip install pandas numpy matplotlib seaborn scikit-learn\n",
    "\n",
    "import pandas as pd\n",
    "import numpy as np\n",
    "import matplotlib.pyplot as plt\n",
    "import seaborn as sns\n",
    "from sklearn.preprocessing import StandardScaler\n",
    "from sklearn.model_selection import train_test_split\n",
    "\n",
    "# Show all columns -> Big dataset\n",
    "pd.set_option('display.max_columns', None)"
   ]
  },
  {
   "cell_type": "markdown",
   "metadata": {},
   "source": [
    "## Load Dataset"
   ]
  },
  {
   "cell_type": "code",
   "execution_count": 8,
   "metadata": {},
   "outputs": [
    {
     "name": "stdout",
     "output_type": "stream",
     "text": [
      "   Diabetes_012  HighBP  HighChol  CholCheck   BMI  Smoker  Stroke  \\\n",
      "0           0.0     1.0       1.0        1.0  40.0     1.0     0.0   \n",
      "1           0.0     0.0       0.0        0.0  25.0     1.0     0.0   \n",
      "2           0.0     1.0       1.0        1.0  28.0     0.0     0.0   \n",
      "3           0.0     1.0       0.0        1.0  27.0     0.0     0.0   \n",
      "4           0.0     1.0       1.0        1.0  24.0     0.0     0.0   \n",
      "\n",
      "   HeartDiseaseorAttack  PhysActivity  Fruits  Veggies  HvyAlcoholConsump  \\\n",
      "0                   0.0           0.0     0.0      1.0                0.0   \n",
      "1                   0.0           1.0     0.0      0.0                0.0   \n",
      "2                   0.0           0.0     1.0      0.0                0.0   \n",
      "3                   0.0           1.0     1.0      1.0                0.0   \n",
      "4                   0.0           1.0     1.0      1.0                0.0   \n",
      "\n",
      "   AnyHealthcare  NoDocbcCost  GenHlth  MentHlth  PhysHlth  DiffWalk  Sex  \\\n",
      "0            1.0          0.0      5.0      18.0      15.0       1.0  0.0   \n",
      "1            0.0          1.0      3.0       0.0       0.0       0.0  0.0   \n",
      "2            1.0          1.0      5.0      30.0      30.0       1.0  0.0   \n",
      "3            1.0          0.0      2.0       0.0       0.0       0.0  0.0   \n",
      "4            1.0          0.0      2.0       3.0       0.0       0.0  0.0   \n",
      "\n",
      "    Age  Education  Income  \n",
      "0   9.0        4.0     3.0  \n",
      "1   7.0        6.0     1.0  \n",
      "2   9.0        4.0     8.0  \n",
      "3  11.0        3.0     6.0  \n",
      "4  11.0        5.0     4.0  \n"
     ]
    }
   ],
   "source": [
    "# Load the dataset\n",
    "df = pd.read_csv('./diabetes_012_health_indicators_BRFSS2015.csv')\n",
    "print(df.head())"
   ]
  },
  {
   "cell_type": "markdown",
   "metadata": {},
   "source": [
    "## Inspect Data"
   ]
  },
  {
   "cell_type": "code",
   "execution_count": 9,
   "metadata": {},
   "outputs": [
    {
     "name": "stdout",
     "output_type": "stream",
     "text": [
      "<class 'pandas.core.frame.DataFrame'>\n",
      "RangeIndex: 253680 entries, 0 to 253679\n",
      "Data columns (total 22 columns):\n",
      " #   Column                Non-Null Count   Dtype  \n",
      "---  ------                --------------   -----  \n",
      " 0   Diabetes_012          253680 non-null  float64\n",
      " 1   HighBP                253680 non-null  float64\n",
      " 2   HighChol              253680 non-null  float64\n",
      " 3   CholCheck             253680 non-null  float64\n",
      " 4   BMI                   253680 non-null  float64\n",
      " 5   Smoker                253680 non-null  float64\n",
      " 6   Stroke                253680 non-null  float64\n",
      " 7   HeartDiseaseorAttack  253680 non-null  float64\n",
      " 8   PhysActivity          253680 non-null  float64\n",
      " 9   Fruits                253680 non-null  float64\n",
      " 10  Veggies               253680 non-null  float64\n",
      " 11  HvyAlcoholConsump     253680 non-null  float64\n",
      " 12  AnyHealthcare         253680 non-null  float64\n",
      " 13  NoDocbcCost           253680 non-null  float64\n",
      " 14  GenHlth               253680 non-null  float64\n",
      " 15  MentHlth              253680 non-null  float64\n",
      " 16  PhysHlth              253680 non-null  float64\n",
      " 17  DiffWalk              253680 non-null  float64\n",
      " 18  Sex                   253680 non-null  float64\n",
      " 19  Age                   253680 non-null  float64\n",
      " 20  Education             253680 non-null  float64\n",
      " 21  Income                253680 non-null  float64\n",
      "dtypes: float64(22)\n",
      "memory usage: 42.6 MB\n",
      "None\n",
      "        Diabetes_012         HighBP       HighChol      CholCheck  \\\n",
      "count  253680.000000  253680.000000  253680.000000  253680.000000   \n",
      "mean        0.296921       0.429001       0.424121       0.962670   \n",
      "std         0.698160       0.494934       0.494210       0.189571   \n",
      "min         0.000000       0.000000       0.000000       0.000000   \n",
      "25%         0.000000       0.000000       0.000000       1.000000   \n",
      "50%         0.000000       0.000000       0.000000       1.000000   \n",
      "75%         0.000000       1.000000       1.000000       1.000000   \n",
      "max         2.000000       1.000000       1.000000       1.000000   \n",
      "\n",
      "                 BMI         Smoker         Stroke  HeartDiseaseorAttack  \\\n",
      "count  253680.000000  253680.000000  253680.000000         253680.000000   \n",
      "mean       28.382364       0.443169       0.040571              0.094186   \n",
      "std         6.608694       0.496761       0.197294              0.292087   \n",
      "min        12.000000       0.000000       0.000000              0.000000   \n",
      "25%        24.000000       0.000000       0.000000              0.000000   \n",
      "50%        27.000000       0.000000       0.000000              0.000000   \n",
      "75%        31.000000       1.000000       0.000000              0.000000   \n",
      "max        98.000000       1.000000       1.000000              1.000000   \n",
      "\n",
      "        PhysActivity         Fruits        Veggies  HvyAlcoholConsump  \\\n",
      "count  253680.000000  253680.000000  253680.000000      253680.000000   \n",
      "mean        0.756544       0.634256       0.811420           0.056197   \n",
      "std         0.429169       0.481639       0.391175           0.230302   \n",
      "min         0.000000       0.000000       0.000000           0.000000   \n",
      "25%         1.000000       0.000000       1.000000           0.000000   \n",
      "50%         1.000000       1.000000       1.000000           0.000000   \n",
      "75%         1.000000       1.000000       1.000000           0.000000   \n",
      "max         1.000000       1.000000       1.000000           1.000000   \n",
      "\n",
      "       AnyHealthcare    NoDocbcCost        GenHlth       MentHlth  \\\n",
      "count  253680.000000  253680.000000  253680.000000  253680.000000   \n",
      "mean        0.951053       0.084177       2.511392       3.184772   \n",
      "std         0.215759       0.277654       1.068477       7.412847   \n",
      "min         0.000000       0.000000       1.000000       0.000000   \n",
      "25%         1.000000       0.000000       2.000000       0.000000   \n",
      "50%         1.000000       0.000000       2.000000       0.000000   \n",
      "75%         1.000000       0.000000       3.000000       2.000000   \n",
      "max         1.000000       1.000000       5.000000      30.000000   \n",
      "\n",
      "            PhysHlth       DiffWalk            Sex            Age  \\\n",
      "count  253680.000000  253680.000000  253680.000000  253680.000000   \n",
      "mean        4.242081       0.168224       0.440342       8.032119   \n",
      "std         8.717951       0.374066       0.496429       3.054220   \n",
      "min         0.000000       0.000000       0.000000       1.000000   \n",
      "25%         0.000000       0.000000       0.000000       6.000000   \n",
      "50%         0.000000       0.000000       0.000000       8.000000   \n",
      "75%         3.000000       0.000000       1.000000      10.000000   \n",
      "max        30.000000       1.000000       1.000000      13.000000   \n",
      "\n",
      "           Education         Income  \n",
      "count  253680.000000  253680.000000  \n",
      "mean        5.050434       6.053875  \n",
      "std         0.985774       2.071148  \n",
      "min         1.000000       1.000000  \n",
      "25%         4.000000       5.000000  \n",
      "50%         5.000000       7.000000  \n",
      "75%         6.000000       8.000000  \n",
      "max         6.000000       8.000000  \n"
     ]
    }
   ],
   "source": [
    "print(df.info()) # Check data types and missing values\n",
    "print(df.describe()) # Summary of data"
   ]
  },
  {
   "cell_type": "markdown",
   "metadata": {},
   "source": [
    "## Missing Valuees"
   ]
  },
  {
   "cell_type": "code",
   "execution_count": 10,
   "metadata": {},
   "outputs": [
    {
     "name": "stdout",
     "output_type": "stream",
     "text": [
      "Missing values per column:\n",
      " Diabetes_012            0\n",
      "HighBP                  0\n",
      "HighChol                0\n",
      "CholCheck               0\n",
      "BMI                     0\n",
      "Smoker                  0\n",
      "Stroke                  0\n",
      "HeartDiseaseorAttack    0\n",
      "PhysActivity            0\n",
      "Fruits                  0\n",
      "Veggies                 0\n",
      "HvyAlcoholConsump       0\n",
      "AnyHealthcare           0\n",
      "NoDocbcCost             0\n",
      "GenHlth                 0\n",
      "MentHlth                0\n",
      "PhysHlth                0\n",
      "DiffWalk                0\n",
      "Sex                     0\n",
      "Age                     0\n",
      "Education               0\n",
      "Income                  0\n",
      "dtype: int64\n"
     ]
    }
   ],
   "source": [
    "missing_values = df.isnull().sum()\n",
    "print(\"Missing values per column:\\n\", missing_values)"
   ]
  },
  {
   "cell_type": "markdown",
   "metadata": {},
   "source": [
    "## Remove Duplicates"
   ]
  },
  {
   "cell_type": "code",
   "execution_count": 11,
   "metadata": {},
   "outputs": [
    {
     "name": "stdout",
     "output_type": "stream",
     "text": [
      "Initial shape:  (253680, 22)\n",
      "Final shape:  (229781, 22)\n"
     ]
    }
   ],
   "source": [
    "initial_shape = df.shape\n",
    "df = df.drop_duplicates()\n",
    "final_shape = df.shape\n",
    "print(\"Initial shape: \", initial_shape)\n",
    "print(\"Final shape: \", final_shape)"
   ]
  },
  {
   "cell_type": "markdown",
   "metadata": {},
   "source": [
    "## Data Type Conversion\n",
    "The dataset contains 22 columns, all set to `float64. However, some columns are essentially binary categorical or binary in nature and should not be represented as floats.\n",
    "\n",
    "### Binary/Categorical Columns: \n",
    "- Convert these columns to integers since they represent distinct categories (0 or 1).\n",
    "\n",
    "- HighBP, HighChol, CholCheck, Smoker, Stroke, HeartDiseaseorAttack, PhysActivity, Fruits, Veggies, HvyAlcoholConsump, AnyHealthcare, NoDocbcCost, DiffWalk, Sex\n",
    "\n",
    "### Ordinal Data Columns\n",
    "- Numerical columns but they represent ordered categories, conversion to integer is appropriate\n",
    "\n",
    "- GenHlth (ranging from 1 to 5)\n",
    "- MentHlth and PhysHlth (number of days out of 30, typically integers)\n",
    "- Age (coded age group ranges, which can be kept as integers)\n",
    "- Education (1 to 6, education levels)\n",
    "- Income (income categories from 1 to 8)\n",
    "\n",
    "### Continuous Data Columns\n",
    "- BMI is correctly set as float because it is a continuous measure"
   ]
  },
  {
   "cell_type": "code",
   "execution_count": 12,
   "metadata": {},
   "outputs": [
    {
     "name": "stdout",
     "output_type": "stream",
     "text": [
      "<class 'pandas.core.frame.DataFrame'>\n",
      "Index: 229781 entries, 0 to 253679\n",
      "Data columns (total 22 columns):\n",
      " #   Column                Non-Null Count   Dtype  \n",
      "---  ------                --------------   -----  \n",
      " 0   Diabetes_012          229781 non-null  float64\n",
      " 1   HighBP                229781 non-null  int64  \n",
      " 2   HighChol              229781 non-null  int64  \n",
      " 3   CholCheck             229781 non-null  int64  \n",
      " 4   BMI                   229781 non-null  float64\n",
      " 5   Smoker                229781 non-null  int64  \n",
      " 6   Stroke                229781 non-null  int64  \n",
      " 7   HeartDiseaseorAttack  229781 non-null  int64  \n",
      " 8   PhysActivity          229781 non-null  int64  \n",
      " 9   Fruits                229781 non-null  int64  \n",
      " 10  Veggies               229781 non-null  int64  \n",
      " 11  HvyAlcoholConsump     229781 non-null  int64  \n",
      " 12  AnyHealthcare         229781 non-null  int64  \n",
      " 13  NoDocbcCost           229781 non-null  int64  \n",
      " 14  GenHlth               229781 non-null  int64  \n",
      " 15  MentHlth              229781 non-null  int64  \n",
      " 16  PhysHlth              229781 non-null  int64  \n",
      " 17  DiffWalk              229781 non-null  int64  \n",
      " 18  Sex                   229781 non-null  int64  \n",
      " 19  Age                   229781 non-null  int64  \n",
      " 20  Education             229781 non-null  int64  \n",
      " 21  Income                229781 non-null  int64  \n",
      "dtypes: float64(2), int64(20)\n",
      "memory usage: 40.3 MB\n",
      "None\n"
     ]
    }
   ],
   "source": [
    "binary_columns = [\n",
    "    'HighBP', 'HighChol', 'CholCheck', 'Smoker', 'Stroke', \n",
    "    'HeartDiseaseorAttack', 'PhysActivity', 'Fruits', 'Veggies', \n",
    "    'HvyAlcoholConsump', 'AnyHealthcare', 'NoDocbcCost', 'DiffWalk', 'Sex'\n",
    "]\n",
    "\n",
    "ordinal_columns = ['GenHlth', 'MentHlth', 'PhysHlth', 'Age', 'Education', 'Income']\n",
    "\n",
    "# Convert binary columns to int\n",
    "df[binary_columns] = df[binary_columns].astype(int)\n",
    "\n",
    "# Convert ordinal columns to int (they are categorical but ordered)\n",
    "df[ordinal_columns] = df[ordinal_columns].astype(int)\n",
    "\n",
    "print(df.info())"
   ]
  },
  {
   "cell_type": "markdown",
   "metadata": {},
   "source": [
    "## Visualise the data"
   ]
  },
  {
   "cell_type": "code",
   "execution_count": 14,
   "metadata": {},
   "outputs": [
    {
     "data": {
      "image/png": "[encoded data removed]",
      "text/plain": [
       "<Figure size 1200x600 with 1 Axes>"
      ]
     },
     "metadata": {},
     "output_type": "display_data"
    }
   ],
   "source": [
    "plt.figure(figsize=(12,6))\n",
    "# Boxplot: It displays the distribution of data based on a five-number summary:\n",
    "# minimum, first quartile (Q1), median, third quartile (Q3), and maximum.\n",
    "sns.boxplot(data=df)\n",
    "plt.title('Boxplot to detect outliers')\n",
    "plt.xticks(rotation=90)\n",
    "plt.show()"
   ]
  },
  {
   "cell_type": "markdown",
   "metadata": {},
   "source": [
    "### Interpreting the Boxplot\n",
    " - **Whiskers**: The lines extending from the box that represent the range of the data within 1.5 times the IQR. Data points outside this range are considered as potential outliers.\n",
    " - **Outliers**: Points outside the whiskers, appearing as circles, represent data points that are significantly different from the bulk of the data.\n",
    "\n",
    "#### Handling Outliers\n"
   ]
  },
  {
   "cell_type": "code",
   "execution_count": null,
   "metadata": {},
   "outputs": [],
   "source": []
  }
 ],
 "metadata": {
  "kernelspec": {
   "display_name": "Python 3",
   "language": "python",
   "name": "python3"
  },
  "language_info": {
   "codemirror_mode": {
    "name": "ipython",
    "version": 3
   },
   "file_extension": ".py",
   "mimetype": "text/x-python",
   "name": "python",
   "nbconvert_exporter": "python",
   "pygments_lexer": "ipython3",
   "version": "3.11.7"
  }
 },
 "nbformat": 4,
 "nbformat_minor": 2
}
