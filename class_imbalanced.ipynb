{
 "cells": [
  {
   "cell_type": "code",
   "execution_count": 4,
   "metadata": {},
   "outputs": [
    {
     "data": {
      "text/plain": [
       "Diabetes_012\n",
       "0.0    190055\n",
       "2.0     35097\n",
       "1.0      4629\n",
       "Name: count, dtype: int64"
      ]
     },
     "execution_count": 4,
     "metadata": {},
     "output_type": "execute_result"
    }
   ],
   "source": [
    "import pandas as pd\n",
    "\n",
    "# Load the dataset to inspect it\n",
    "file_path = 'cleaned_diabetes_012_health_indicators_BRFSS2015.csv'\n",
    "data = pd.read_csv(file_path)\n",
    "\n",
    "# Check the distribution of the target class to identify the imbalance\n",
    "class_distribution = data['Diabetes_012'].value_counts()\n",
    "\n",
    "class_distribution\n"
   ]
  },
  {
   "cell_type": "code",
   "execution_count": 5,
   "metadata": {},
   "outputs": [
    {
     "data": {
      "text/plain": [
       "Diabetes_01\n",
       "0.0    190055\n",
       "1.0     39726\n",
       "Name: count, dtype: int64"
      ]
     },
     "execution_count": 5,
     "metadata": {},
     "output_type": "execute_result"
    }
   ],
   "source": [
    "# Grouping class 1 and 2 together as class 1 (diabetes and prediabetes) and keeping class 0 as no diabetes.\n",
    "data['Diabetes_01'] = data['Diabetes_012'].replace({2.0: 1.0})\n",
    "\n",
    "# Check the new distribution of the classes after grouping\n",
    "new_class_distribution = data['Diabetes_01'].value_counts()\n",
    "\n",
    "new_class_distribution"
   ]
  },
  {
   "cell_type": "code",
   "execution_count": 7,
   "metadata": {},
   "outputs": [
    {
     "name": "stdout",
     "output_type": "stream",
     "text": [
      "Diabetes_01\n",
      "0.0    190055\n",
      "1.0    190055\n",
      "Name: count, dtype: int64\n"
     ]
    }
   ],
   "source": [
    "from imblearn.over_sampling import RandomOverSampler\n",
    "\n",
    "# Define features (X) and target (y)\n",
    "X = data.drop(columns=['Diabetes_012', 'Diabetes_01'])\n",
    "y = data['Diabetes_01']\n",
    "\n",
    "# Apply Random Over Sampling to balance the dataset\n",
    "ros = RandomOverSampler(random_state=42)\n",
    "X_resampled, y_resampled = ros.fit_resample(X, y)\n",
    "\n",
    "# Check the distribution after oversampling\n",
    "resampled_class_distribution = pd.Series(y_resampled).value_counts()\n",
    "print(resampled_class_distribution)\n",
    "\n",
    "# Create a new DataFrame with the resampled data\n",
    "resampled_data = pd.DataFrame(X_resampled, columns=X.columns)\n",
    "resampled_data['Diabetes_01'] = y_resampled\n",
    "\n",
    "# Save the resampled dataset to a CSV file (already saved)\n",
    "#resampled_data.to_csv('overesampled_diabetes_data.csv', index=False)"
   ]
  }
 ],
 "metadata": {
  "kernelspec": {
   "display_name": ".venv",
   "language": "python",
   "name": "python3"
  },
  "language_info": {
   "codemirror_mode": {
    "name": "ipython",
    "version": 3
   },
   "file_extension": ".py",
   "mimetype": "text/x-python",
   "name": "python",
   "nbconvert_exporter": "python",
   "pygments_lexer": "ipython3",
   "version": "3.11.1"
  }
 },
 "nbformat": 4,
 "nbformat_minor": 2
}
